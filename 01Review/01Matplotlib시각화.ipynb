{
 "cells": [
  {
   "cell_type": "markdown",
   "metadata": {
    "colab_type": "text",
    "id": "SbgUfOOzTTXi"
   },
   "source": [
    "# 데이터 시각화가 필요한 이유\n",
    "\n",
    "* 앤스콤 4분할 데이터(anscombe' quartet)는 데이터 시각화의 중요성을 보여주는 전형적이 사례이다.\n",
    "* 영국의 프랭크 앤스콤이 데이터를 시각화 하지 않고 수치에만 의존할 때 발생하는 함정을 보여주기 위한 데이터 이다.\n",
    "* 해당 데이터는 4개의 그룹으로 구성되어 있으며 모든 데이터 그룹이 x, y 값을 가지고 있다. \n",
    "* 이 4개 그룹은 각각 평균, 분산, 상관관계, 회귀선이 같다는 특징이 있다.\n",
    "* 수치 결과만 보면 4개 그룹의 데이터가 서로 같을 것이라고 착각할 수 있다."
   ]
  },
  {
   "cell_type": "code",
   "execution_count": 1,
   "metadata": {
    "colab": {
     "base_uri": "https://localhost:8080/",
     "height": 73
    },
    "colab_type": "code",
    "executionInfo": {
     "elapsed": 1149,
     "status": "ok",
     "timestamp": 1593086085836,
     "user": {
      "displayName": "이선화",
      "photoUrl": "https://lh3.googleusercontent.com/a-/AOh14GiGEcSuxiespWUAaMC6eXljdm2fXmv29ZXuZ14n=s64",
      "userId": "08084686575025891086"
     },
     "user_tz": -540
    },
    "id": "tVs2YbAFTTXj",
    "outputId": "ae50693d-bbdc-4f26-fdb5-1e3ed4029fef"
   },
   "outputs": [],
   "source": [
    "%matplotlib inline\n",
    "import matplotlib.pyplot as plt\n",
    "import pandas as pd\n",
    "\n",
    "import seaborn as sns"
   ]
  },
  {
   "cell_type": "code",
   "execution_count": 2,
   "metadata": {
    "colab": {},
    "colab_type": "code",
    "id": "2-kgRh4_TTXl"
   },
   "outputs": [],
   "source": [
    "anscombe = pd.read_csv(\"../data/anscombe.csv\")"
   ]
  },
  {
   "cell_type": "code",
   "execution_count": 3,
   "metadata": {
    "colab": {
     "base_uri": "https://localhost:8080/",
     "height": 202
    },
    "colab_type": "code",
    "executionInfo": {
     "elapsed": 663,
     "status": "ok",
     "timestamp": 1592976166761,
     "user": {
      "displayName": "이선화",
      "photoUrl": "https://lh3.googleusercontent.com/a-/AOh14GiGEcSuxiespWUAaMC6eXljdm2fXmv29ZXuZ14n=s64",
      "userId": "08084686575025891086"
     },
     "user_tz": -540
    },
    "id": "tv6FXmQITTXn",
    "outputId": "3bf1c7b5-fb17-4d86-8bd8-8495195a388d"
   },
   "outputs": [
    {
     "data": {
      "text/html": [
       "<div>\n",
       "<style scoped>\n",
       "    .dataframe tbody tr th:only-of-type {\n",
       "        vertical-align: middle;\n",
       "    }\n",
       "\n",
       "    .dataframe tbody tr th {\n",
       "        vertical-align: top;\n",
       "    }\n",
       "\n",
       "    .dataframe thead th {\n",
       "        text-align: right;\n",
       "    }\n",
       "</style>\n",
       "<table border=\"1\" class=\"dataframe\">\n",
       "  <thead>\n",
       "    <tr style=\"text-align: right;\">\n",
       "      <th></th>\n",
       "      <th>dataset</th>\n",
       "      <th>x</th>\n",
       "      <th>y</th>\n",
       "    </tr>\n",
       "  </thead>\n",
       "  <tbody>\n",
       "    <tr>\n",
       "      <th>0</th>\n",
       "      <td>I</td>\n",
       "      <td>10.0</td>\n",
       "      <td>8.04</td>\n",
       "    </tr>\n",
       "    <tr>\n",
       "      <th>1</th>\n",
       "      <td>I</td>\n",
       "      <td>8.0</td>\n",
       "      <td>6.95</td>\n",
       "    </tr>\n",
       "    <tr>\n",
       "      <th>2</th>\n",
       "      <td>I</td>\n",
       "      <td>13.0</td>\n",
       "      <td>7.58</td>\n",
       "    </tr>\n",
       "    <tr>\n",
       "      <th>3</th>\n",
       "      <td>I</td>\n",
       "      <td>9.0</td>\n",
       "      <td>8.81</td>\n",
       "    </tr>\n",
       "    <tr>\n",
       "      <th>4</th>\n",
       "      <td>I</td>\n",
       "      <td>11.0</td>\n",
       "      <td>8.33</td>\n",
       "    </tr>\n",
       "  </tbody>\n",
       "</table>\n",
       "</div>"
      ],
      "text/plain": [
       "  dataset     x     y\n",
       "0       I  10.0  8.04\n",
       "1       I   8.0  6.95\n",
       "2       I  13.0  7.58\n",
       "3       I   9.0  8.81\n",
       "4       I  11.0  8.33"
      ]
     },
     "execution_count": 3,
     "metadata": {},
     "output_type": "execute_result"
    }
   ],
   "source": [
    "anscombe.head()"
   ]
  },
  {
   "cell_type": "markdown",
   "metadata": {
    "colab_type": "text",
    "id": "NNLseDL7TTXq"
   },
   "source": [
    "**기술통계량을 확인해 보면 4개 그룹의 수치적 요약값이 같은 것을 알 수 있다.**"
   ]
  },
  {
   "cell_type": "code",
   "execution_count": 4,
   "metadata": {
    "colab": {
     "base_uri": "https://localhost:8080/",
     "height": 233
    },
    "colab_type": "code",
    "id": "DG8FwhmNTTXq",
    "outputId": "14053bbb-1b61-43f5-dfb5-a4ac1d2f88af"
   },
   "outputs": [
    {
     "data": {
      "text/html": [
       "<div>\n",
       "<style scoped>\n",
       "    .dataframe tbody tr th:only-of-type {\n",
       "        vertical-align: middle;\n",
       "    }\n",
       "\n",
       "    .dataframe tbody tr th {\n",
       "        vertical-align: top;\n",
       "    }\n",
       "\n",
       "    .dataframe thead tr th {\n",
       "        text-align: left;\n",
       "    }\n",
       "\n",
       "    .dataframe thead tr:last-of-type th {\n",
       "        text-align: right;\n",
       "    }\n",
       "</style>\n",
       "<table border=\"1\" class=\"dataframe\">\n",
       "  <thead>\n",
       "    <tr>\n",
       "      <th></th>\n",
       "      <th colspan=\"2\" halign=\"left\">x</th>\n",
       "      <th colspan=\"2\" halign=\"left\">y</th>\n",
       "    </tr>\n",
       "    <tr>\n",
       "      <th></th>\n",
       "      <th>mean</th>\n",
       "      <th>std</th>\n",
       "      <th>mean</th>\n",
       "      <th>std</th>\n",
       "    </tr>\n",
       "    <tr>\n",
       "      <th>dataset</th>\n",
       "      <th></th>\n",
       "      <th></th>\n",
       "      <th></th>\n",
       "      <th></th>\n",
       "    </tr>\n",
       "  </thead>\n",
       "  <tbody>\n",
       "    <tr>\n",
       "      <th>I</th>\n",
       "      <td>9.0</td>\n",
       "      <td>3.316625</td>\n",
       "      <td>7.500909</td>\n",
       "      <td>2.031568</td>\n",
       "    </tr>\n",
       "    <tr>\n",
       "      <th>II</th>\n",
       "      <td>9.0</td>\n",
       "      <td>3.316625</td>\n",
       "      <td>7.500909</td>\n",
       "      <td>2.031657</td>\n",
       "    </tr>\n",
       "    <tr>\n",
       "      <th>III</th>\n",
       "      <td>9.0</td>\n",
       "      <td>3.316625</td>\n",
       "      <td>7.500000</td>\n",
       "      <td>2.030424</td>\n",
       "    </tr>\n",
       "    <tr>\n",
       "      <th>IV</th>\n",
       "      <td>9.0</td>\n",
       "      <td>3.316625</td>\n",
       "      <td>7.500909</td>\n",
       "      <td>2.030579</td>\n",
       "    </tr>\n",
       "  </tbody>\n",
       "</table>\n",
       "</div>"
      ],
      "text/plain": [
       "           x                   y          \n",
       "        mean       std      mean       std\n",
       "dataset                                   \n",
       "I        9.0  3.316625  7.500909  2.031568\n",
       "II       9.0  3.316625  7.500909  2.031657\n",
       "III      9.0  3.316625  7.500000  2.030424\n",
       "IV       9.0  3.316625  7.500909  2.030579"
      ]
     },
     "execution_count": 4,
     "metadata": {},
     "output_type": "execute_result"
    }
   ],
   "source": [
    "anscombe.groupby('dataset').agg(['mean','std'])"
   ]
  },
  {
   "cell_type": "markdown",
   "metadata": {
    "colab_type": "text",
    "id": "tVnCSSbgTTXs"
   },
   "source": [
    "# 산점도로 시각화 해보기\n",
    "각 그룹을 비교하기 위한 시각화"
   ]
  },
  {
   "cell_type": "code",
   "execution_count": 5,
   "metadata": {
    "colab": {},
    "colab_type": "code",
    "id": "5cod-KjOTTXt"
   },
   "outputs": [],
   "source": [
    "dataset1 = anscombe[anscombe['dataset']=='I']\n",
    "dataset2 = anscombe[anscombe['dataset']=='II']\n",
    "dataset3 = anscombe[anscombe['dataset']=='III']\n",
    "dataset4 = anscombe[anscombe['dataset']=='IV']"
   ]
  },
  {
   "cell_type": "markdown",
   "metadata": {
    "colab_type": "text",
    "id": "g2w55nEfD97k"
   },
   "source": []
  },
  {
   "cell_type": "code",
   "execution_count": 6,
   "metadata": {
    "colab": {
     "base_uri": "https://localhost:8080/",
     "height": 297
    },
    "colab_type": "code",
    "executionInfo": {
     "elapsed": 1302,
     "status": "ok",
     "timestamp": 1592976224673,
     "user": {
      "displayName": "이선화",
      "photoUrl": "https://lh3.googleusercontent.com/a-/AOh14GiGEcSuxiespWUAaMC6eXljdm2fXmv29ZXuZ14n=s64",
      "userId": "08084686575025891086"
     },
     "user_tz": -540
    },
    "id": "fwHy2j_HTTXv",
    "outputId": "83ffbf96-6443-415d-b003-f98d45b66c60"
   },
   "outputs": [
    {
     "data": {
      "image/png": "[encoded data removed]",
      "text/plain": [
       "<Figure size 432x288 with 4 Axes>"
      ]
     },
     "metadata": {
      "needs_background": "light"
     },
     "output_type": "display_data"
    }
   ],
   "source": [
    "fig = plt.figure()\n",
    "ax1 = fig.add_subplot(2,2,1)\n",
    "ax2 = fig.add_subplot(2,2,2)\n",
    "ax3 = fig.add_subplot(2,2,3)\n",
    "ax4 = fig.add_subplot(2,2,4)\n",
    "\n",
    "ax1.plot(dataset1['x'], dataset1['y'], 'o'); ax1.set_title('dataset1')\n",
    "ax2.plot(dataset2['x'], dataset2['y'], 'o'); ax2.set_title('dataset2')\n",
    "ax3.plot(dataset3['x'], dataset3['y'], 'o'); ax3.set_title('dataset3')\n",
    "ax4.plot(dataset4['x'], dataset4['y'], 'o'); ax4.set_title('dataset4')\n",
    "\n",
    "fig.tight_layout()\n",
    "plt.show()"
   ]
  },
  {
   "cell_type": "markdown",
   "metadata": {
    "colab_type": "text",
    "id": "L9KdQzcnTTXx"
   },
   "source": [
    "* 평균, 분산, 상관관계 등의 통걔적 수치가 같아도 그래프의 형태는 다를 수 있다.\n",
    "* 데이터 분석시 수치에만 의존하면 잘못된 판단을 할 수 있다."
   ]
  },
  {
   "cell_type": "code",
   "execution_count": null,
   "metadata": {
    "colab": {},
    "colab_type": "code",
    "id": "reI6RmCKTTXx"
   },
   "outputs": [],
   "source": []
  },
  {
   "cell_type": "markdown",
   "metadata": {
    "colab_type": "text",
    "id": "InfO8IncTTXz"
   },
   "source": [
    "# Matplotlib 실습\n",
    "먼저 matplotlib.pyplot을 import한다. 실습에 필요한 numpy도 import한다.  \n",
    "jupyter notebook에서 plot이 바로 표시 될 수 있도록 매직 명령어를 사용한다. \n",
    "> %matplotlib inline"
   ]
  },
  {
   "cell_type": "code",
   "execution_count": 7,
   "metadata": {
    "colab": {},
    "colab_type": "code",
    "id": "RjuQFx6YTTX0"
   },
   "outputs": [],
   "source": [
    "import matplotlib.pyplot as plt\n",
    "import numpy as np\n",
    "import pandas as pd\n",
    "\n",
    "%matplotlib inline"
   ]
  },
  {
   "cell_type": "markdown",
   "metadata": {
    "colab_type": "text",
    "id": "xErdJGSeTTX1"
   },
   "source": [
    "간단히 다음과 같은 sine 함수 그래프와 cosine함수 그래프를 그려보자."
   ]
  },
  {
   "cell_type": "code",
   "execution_count": 8,
   "metadata": {
    "colab": {
     "base_uri": "https://localhost:8080/",
     "height": 284
    },
    "colab_type": "code",
    "executionInfo": {
     "elapsed": 775,
     "status": "ok",
     "timestamp": 1592980938685,
     "user": {
      "displayName": "이선화",
      "photoUrl": "https://lh3.googleusercontent.com/a-/AOh14GiGEcSuxiespWUAaMC6eXljdm2fXmv29ZXuZ14n=s64",
      "userId": "08084686575025891086"
     },
     "user_tz": -540
    },
    "id": "xuoFba2DTTX2",
    "outputId": "c97e2621-ba77-4444-81c0-28c0273d3722"
   },
   "outputs": [
    {
     "data": {
      "text/plain": [
       "[<matplotlib.lines.Line2D at 0x1be43abf108>]"
      ]
     },
     "execution_count": 8,
     "metadata": {},
     "output_type": "execute_result"
    },
    {
     "data": {
      "image/png": "[encoded data removed]",
      "text/plain": [
       "<Figure size 432x288 with 1 Axes>"
      ]
     },
     "metadata": {
      "needs_background": "light"
     },
     "output_type": "display_data"
    }
   ],
   "source": [
    "x = np.linspace(0,10,100) # 0~10 등분을 해서 숫자 100개 생성\n",
    "\n",
    "plt.plot(x, np.sin(x), '-')\n",
    "plt.plot(x, np.cos(x), '--')"
   ]
  },
  {
   "cell_type": "markdown",
   "metadata": {
    "colab_type": "text",
    "id": "NsR0raolTTX4"
   },
   "source": [
    "subplot 기능을 활용하여 sine함수와 cosine함수 그래프를 다음과 같이 그려보자"
   ]
  },
  {
   "cell_type": "code",
   "execution_count": 9,
   "metadata": {
    "colab": {
     "base_uri": "https://localhost:8080/",
     "height": 284
    },
    "colab_type": "code",
    "executionInfo": {
     "elapsed": 711,
     "status": "ok",
     "timestamp": 1592981027255,
     "user": {
      "displayName": "이선화",
      "photoUrl": "https://lh3.googleusercontent.com/a-/AOh14GiGEcSuxiespWUAaMC6eXljdm2fXmv29ZXuZ14n=s64",
      "userId": "08084686575025891086"
     },
     "user_tz": -540
    },
    "id": "WXk1oBaPTTX4",
    "outputId": "1e1a7246-4199-4c84-e2ea-0e8ed235c7b3"
   },
   "outputs": [
    {
     "data": {
      "text/plain": [
       "[<matplotlib.lines.Line2D at 0x1be43d38888>]"
      ]
     },
     "execution_count": 9,
     "metadata": {},
     "output_type": "execute_result"
    },
    {
     "data": {
      "image/png": "[encoded data removed]",
      "text/plain": [
       "<Figure size 432x288 with 2 Axes>"
      ]
     },
     "metadata": {
      "needs_background": "light"
     },
     "output_type": "display_data"
    }
   ],
   "source": [
    "plt.figure()\n",
    "\n",
    "plt.subplot(2,1,1)\n",
    "plt.plot(x, np.sin(x))\n",
    "\n",
    "plt.subplot(212)\n",
    "plt.plot(x, np.cos(x))"
   ]
  },
  {
   "cell_type": "markdown",
   "metadata": {
    "colab_type": "text",
    "id": "13h9nD_nTTX6"
   },
   "source": [
    "플롯의 선 색상과 스타일을 다음과 같이 바꾸어서 그려보자.\n",
    "- color : r,g,b,c,y,m,k,w\n",
    "- linestyle : -, --, :, o, ^ "
   ]
  },
  {
   "cell_type": "code",
   "execution_count": 10,
   "metadata": {
    "colab": {},
    "colab_type": "code",
    "id": "DeoqEZa-TTX7"
   },
   "outputs": [
    {
     "name": "stdout",
     "output_type": "stream",
     "text": [
      "Object `plt.plot(x)` not found.\n"
     ]
    }
   ],
   "source": [
    "?plt.plot(x)"
   ]
  },
  {
   "cell_type": "code",
   "execution_count": 11,
   "metadata": {
    "colab": {
     "base_uri": "https://localhost:8080/",
     "height": 284
    },
    "colab_type": "code",
    "executionInfo": {
     "elapsed": 695,
     "status": "ok",
     "timestamp": 1592981177095,
     "user": {
      "displayName": "이선화",
      "photoUrl": "https://lh3.googleusercontent.com/a-/AOh14GiGEcSuxiespWUAaMC6eXljdm2fXmv29ZXuZ14n=s64",
      "userId": "08084686575025891086"
     },
     "user_tz": -540
    },
    "id": "x0jBM2rjTTX9",
    "outputId": "a09d1da6-fd0c-4175-caec-0e1583a54033"
   },
   "outputs": [
    {
     "data": {
      "text/plain": [
       "[<matplotlib.lines.Line2D at 0x1be43df1c88>]"
      ]
     },
     "execution_count": 11,
     "metadata": {},
     "output_type": "execute_result"
    },
    {
     "data": {
      "image/png": "[encoded data removed]",
      "text/plain": [
       "<Figure size 432x288 with 1 Axes>"
      ]
     },
     "metadata": {
      "needs_background": "light"
     },
     "output_type": "display_data"
    }
   ],
   "source": [
    "plt.plot(x, 'r-')\n",
    "plt.plot(x+1, 'g--')\n",
    "plt.plot(x+2, 'b:')\n",
    "plt.plot(x+3, 'y-.')"
   ]
  },
  {
   "cell_type": "markdown",
   "metadata": {
    "colab_type": "text",
    "id": "d33pqr99TTX-"
   },
   "source": [
    "plt.xlim()과 plt.ylim() 을 사용하여 x축과 y축을 제한 할 수 있다.  \n",
    "sine 그래프를 그리고 x축을 -1 ~ 11로 하고 y축을 -1.5 ~ 1.5로 나타내 보자."
   ]
  },
  {
   "cell_type": "code",
   "execution_count": 12,
   "metadata": {
    "colab": {
     "base_uri": "https://localhost:8080/",
     "height": 288
    },
    "colab_type": "code",
    "executionInfo": {
     "elapsed": 754,
     "status": "ok",
     "timestamp": 1592981204843,
     "user": {
      "displayName": "이선화",
      "photoUrl": "https://lh3.googleusercontent.com/a-/AOh14GiGEcSuxiespWUAaMC6eXljdm2fXmv29ZXuZ14n=s64",
      "userId": "08084686575025891086"
     },
     "user_tz": -540
    },
    "id": "4XapZhpdTTX_",
    "outputId": "c619096e-b313-4869-f1d0-256fe860a911"
   },
   "outputs": [
    {
     "data": {
      "text/plain": [
       "(-1.5, 1.5)"
      ]
     },
     "execution_count": 12,
     "metadata": {},
     "output_type": "execute_result"
    },
    {
     "data": {
      "image/png": "[encoded data removed]",
      "text/plain": [
       "<Figure size 432x288 with 1 Axes>"
      ]
     },
     "metadata": {
      "needs_background": "light"
     },
     "output_type": "display_data"
    }
   ],
   "source": [
    "plt.plot(x, np.sin(x))\n",
    "plt.xlim(-1, 11)\n",
    "plt.ylim(-1.5, 1.5)"
   ]
  },
  {
   "cell_type": "markdown",
   "metadata": {
    "colab_type": "text",
    "id": "ymk8SGbNTTYB"
   },
   "source": [
    "x축과 y축의 비율을 동일하게 맞출 수 있다. "
   ]
  },
  {
   "cell_type": "code",
   "execution_count": 13,
   "metadata": {
    "colab": {},
    "colab_type": "code",
    "id": "_jPR2EBNTTYB",
    "outputId": "3df5cfa9-5f42-4fb9-dd16-316a994edb0a"
   },
   "outputs": [
    {
     "data": {
      "text/plain": [
       "(-0.5, 10.5, -1.0993384025373631, 1.0996461858110391)"
      ]
     },
     "execution_count": 13,
     "metadata": {},
     "output_type": "execute_result"
    },
    {
     "data": {
      "image/png": "[encoded data removed]",
      "text/plain": [
       "<Figure size 432x288 with 1 Axes>"
      ]
     },
     "metadata": {
      "needs_background": "light"
     },
     "output_type": "display_data"
    }
   ],
   "source": [
    "plt.plot(x, np.sin(x))\n",
    "plt.axis('equal')"
   ]
  },
  {
   "cell_type": "markdown",
   "metadata": {
    "colab_type": "text",
    "id": "PpB40_qyTTYD"
   },
   "source": [
    "x축과 y축에 label을 추가하고 그래프의 제목을 추가한다."
   ]
  },
  {
   "cell_type": "code",
   "execution_count": 14,
   "metadata": {
    "colab": {
     "base_uri": "https://localhost:8080/",
     "height": 313
    },
    "colab_type": "code",
    "id": "By55Q09CTTYE",
    "outputId": "cbcc62a4-3f81-4bac-a107-f7d7c6b5acbc"
   },
   "outputs": [
    {
     "data": {
      "text/plain": [
       "Text(0, 0.5, 'sin(x)')"
      ]
     },
     "execution_count": 14,
     "metadata": {},
     "output_type": "execute_result"
    },
    {
     "data": {
      "image/png": "[encoded data removed]",
      "text/plain": [
       "<Figure size 432x288 with 1 Axes>"
      ]
     },
     "metadata": {
      "needs_background": "light"
     },
     "output_type": "display_data"
    }
   ],
   "source": [
    "plt.plot(x, np.sin(x))\n",
    "plt.title('Sine Curve')\n",
    "plt.xlabel('x')\n",
    "plt.ylabel('sin(x)')"
   ]
  },
  {
   "cell_type": "markdown",
   "metadata": {
    "colab_type": "text",
    "id": "TuTmCpdoTTYG"
   },
   "source": [
    "Legend의 표시  \n",
    "각 그래프 선에 대해서 label을 붙이고 그래프에서 legend로 표시한다.  \n",
    "legend loc 옵션 : 'upper right', 'upper left', 'lower left','lower right' 등으로 위치 지정 가능하다."
   ]
  },
  {
   "cell_type": "code",
   "execution_count": 15,
   "metadata": {
    "colab": {
     "base_uri": "https://localhost:8080/",
     "height": 283
    },
    "colab_type": "code",
    "id": "nj0gsyj_TTYG",
    "outputId": "4aa0f252-4f49-4fe0-a603-07848096d934"
   },
   "outputs": [
    {
     "data": {
      "text/plain": [
       "<matplotlib.legend.Legend at 0x1be43eb5cc8>"
      ]
     },
     "execution_count": 15,
     "metadata": {},
     "output_type": "execute_result"
    },
    {
     "data": {
      "image/png": "[encoded data removed]",
      "text/plain": [
       "<Figure size 432x288 with 2 Axes>"
      ]
     },
     "metadata": {
      "needs_background": "light"
     },
     "output_type": "display_data"
    }
   ],
   "source": [
    "\n",
    "plt.subplot(2,1,1)\n",
    "plt.plot(x, np.sin(x), '-g', label ='sin(x)')\n",
    "plt.legend(loc='lower left')\n",
    "plt.subplot(2,1,2)\n",
    "plt.plot(x, np.cos(x), ':b', label ='cos(x)')\n",
    "plt.legend()"
   ]
  },
  {
   "cell_type": "markdown",
   "metadata": {
    "colab_type": "text",
    "id": "iCEy69oBTTYI"
   },
   "source": [
    "### 다중 서브플롯\n",
    "* 서로 다른 데이터 뷰를 비교\n",
    "* plt.subplot : 간단한 서브플롯의 그리드\n",
    "* plt.tight_layout() : 서브플롯 간격유지"
   ]
  },
  {
   "cell_type": "code",
   "execution_count": 16,
   "metadata": {
    "colab": {
     "base_uri": "https://localhost:8080/",
     "height": 297
    },
    "colab_type": "code",
    "executionInfo": {
     "elapsed": 1553,
     "status": "ok",
     "timestamp": 1592981343238,
     "user": {
      "displayName": "이선화",
      "photoUrl": "https://lh3.googleusercontent.com/a-/AOh14GiGEcSuxiespWUAaMC6eXljdm2fXmv29ZXuZ14n=s64",
      "userId": "08084686575025891086"
     },
     "user_tz": -540
    },
    "id": "xDtL7wI2TTYJ",
    "outputId": "e69326d0-b6ec-4d01-9bbf-ddd8f28a003c"
   },
   "outputs": [
    {
     "data": {
      "image/png": "[encoded data removed]",
      "text/plain": [
       "<Figure size 432x288 with 6 Axes>"
      ]
     },
     "metadata": {
      "needs_background": "light"
     },
     "output_type": "display_data"
    }
   ],
   "source": [
    "for i in range(1,7):\n",
    "    plt.subplot(2,3,i)\n",
    "    plt.text(0.5, 0.5, str(i), fontsize=18, ha='center')\n",
    "plt.tight_layout() # 축 겹치지 않게 재배치"
   ]
  },
  {
   "cell_type": "code",
   "execution_count": 17,
   "metadata": {
    "colab": {
     "base_uri": "https://localhost:8080/",
     "height": 265
    },
    "colab_type": "code",
    "id": "LzOrSynmTTYM",
    "outputId": "6a801bb9-a9d3-486f-a5da-d9f0002ffa84"
   },
   "outputs": [
    {
     "data": {
      "image/png": "[encoded data removed]",
      "text/plain": [
       "<Figure size 432x288 with 3 Axes>"
      ]
     },
     "metadata": {
      "needs_background": "light"
     },
     "output_type": "display_data"
    }
   ],
   "source": [
    "plt.subplot(2,2,1); plt.plot(x, np.sin(x))\n",
    "plt.subplot(2,2,2); plt.plot(x, np.cos(x))\n",
    "plt.subplot(2,1,2); plt.plot(x)\n",
    "\n",
    "plt.show()"
   ]
  },
  {
   "cell_type": "markdown",
   "metadata": {
    "colab_type": "text",
    "id": "hoMz2k9nTTYP"
   },
   "source": [
    "# Matplotlib로 다양한 그래프 그리기"
   ]
  },
  {
   "cell_type": "code",
   "execution_count": 18,
   "metadata": {
    "colab": {},
    "colab_type": "code",
    "executionInfo": {
     "elapsed": 2185,
     "status": "ok",
     "timestamp": 1593086140432,
     "user": {
      "displayName": "이선화",
      "photoUrl": "https://lh3.googleusercontent.com/a-/AOh14GiGEcSuxiespWUAaMC6eXljdm2fXmv29ZXuZ14n=s64",
      "userId": "08084686575025891086"
     },
     "user_tz": -540
    },
    "id": "FGtfTPAqTTYP"
   },
   "outputs": [],
   "source": [
    "# Data Loading\n",
    "\n",
    "iris = pd.read_csv(\"../data/iris.csv\")\n",
    "tips = pd.read_csv(\"../data/tips.csv\")"
   ]
  },
  {
   "cell_type": "markdown",
   "metadata": {
    "colab_type": "text",
    "id": "fsOxU7yUTTYR"
   },
   "source": [
    "### matplotlib에서 히스토그램 그리기\n",
    "* 도수 분포표를 시각화 한 것.\n",
    "* 연속형 변수의 구간별 도수를 막대의 길이로 나타내는 그래프\n",
    "* 데이터 분석 단계에서 변수의 분포, 중심 경향, 퍼짐 정도, 치우침 정도 등을 한눈에 살펴볼 수 있는 시각화 종류로 히스토그램이 많이 사용\n",
    "\n",
    "\n",
    " bins=x 값을 변경해가면서 여러번 시도해 본다."
   ]
  },
  {
   "cell_type": "code",
   "execution_count": 19,
   "metadata": {
    "colab": {
     "base_uri": "https://localhost:8080/",
     "height": 265
    },
    "colab_type": "code",
    "executionInfo": {
     "elapsed": 1176,
     "status": "ok",
     "timestamp": 1593087305537,
     "user": {
      "displayName": "이선화",
      "photoUrl": "https://lh3.googleusercontent.com/a-/AOh14GiGEcSuxiespWUAaMC6eXljdm2fXmv29ZXuZ14n=s64",
      "userId": "08084686575025891086"
     },
     "user_tz": -540
    },
    "id": "5j9gQHlPTTYR",
    "outputId": "699bfdd3-8c49-4218-8717-98940f11d797"
   },
   "outputs": [
    {
     "data": {
      "image/png": "[encoded data removed]",
      "text/plain": [
       "<Figure size 432x288 with 1 Axes>"
      ]
     },
     "metadata": {
      "needs_background": "light"
     },
     "output_type": "display_data"
    }
   ],
   "source": [
    "plt.hist(iris['sepal_width'], bins=10)\n",
    "plt.show()"
   ]
  },
  {
   "cell_type": "markdown",
   "metadata": {
    "colab_type": "text",
    "id": "21l1g3veTTYT"
   },
   "source": [
    "Y축을 빈도수(frequency)가 아니라 density로 하고 싶을 때는 density=True 를 설정"
   ]
  },
  {
   "cell_type": "code",
   "execution_count": 20,
   "metadata": {
    "colab": {
     "base_uri": "https://localhost:8080/",
     "height": 265
    },
    "colab_type": "code",
    "executionInfo": {
     "elapsed": 1233,
     "status": "ok",
     "timestamp": 1593086154232,
     "user": {
      "displayName": "이선화",
      "photoUrl": "https://lh3.googleusercontent.com/a-/AOh14GiGEcSuxiespWUAaMC6eXljdm2fXmv29ZXuZ14n=s64",
      "userId": "08084686575025891086"
     },
     "user_tz": -540
    },
    "id": "Ed99Uk_zTTYT",
    "outputId": "b3e3cb1a-f643-4d5b-c39a-e1c3d0eea197"
   },
   "outputs": [
    {
     "data": {
      "image/png": "[encoded data removed]",
      "text/plain": [
       "<Figure size 432x288 with 1 Axes>"
      ]
     },
     "metadata": {
      "needs_background": "light"
     },
     "output_type": "display_data"
    }
   ],
   "source": [
    "plt.hist(iris['sepal_width'], bins=10, density=True)\n",
    "plt.show()"
   ]
  },
  {
   "cell_type": "markdown",
   "metadata": {
    "colab_type": "text",
    "id": "Bczlb7KwTTYV"
   },
   "source": [
    "### matplotlib으로 막대 그리프 그리기\n",
    "요일(day)별로 tip 의 합계를 구해서 막대 그래프로 비교"
   ]
  },
  {
   "cell_type": "code",
   "execution_count": 21,
   "metadata": {
    "colab": {
     "base_uri": "https://localhost:8080/",
     "height": 125
    },
    "colab_type": "code",
    "executionInfo": {
     "elapsed": 1153,
     "status": "ok",
     "timestamp": 1593087670860,
     "user": {
      "displayName": "이선화",
      "photoUrl": "https://lh3.googleusercontent.com/a-/AOh14GiGEcSuxiespWUAaMC6eXljdm2fXmv29ZXuZ14n=s64",
      "userId": "08084686575025891086"
     },
     "user_tz": -540
    },
    "id": "o9AKGwEGXvt9",
    "outputId": "cf4ca75e-79a9-4672-8c61-7929bbcefaee"
   },
   "outputs": [
    {
     "data": {
      "text/plain": [
       "day\n",
       "Fri      51.96\n",
       "Thur    171.83\n",
       "Sun     247.39\n",
       "Sat     260.40\n",
       "Name: tip, dtype: float64"
      ]
     },
     "execution_count": 21,
     "metadata": {},
     "output_type": "execute_result"
    }
   ],
   "source": [
    "import numpy as np\n",
    "\n",
    "tips_sum_by_day = tips.groupby('day').tip.sum().sort_values()  # 막대그래프를 크기 순서로 정렬\n",
    "tips_sum_by_day"
   ]
  },
  {
   "cell_type": "code",
   "execution_count": 22,
   "metadata": {
    "colab": {
     "base_uri": "https://localhost:8080/",
     "height": 265
    },
    "colab_type": "code",
    "executionInfo": {
     "elapsed": 1130,
     "status": "ok",
     "timestamp": 1593087674112,
     "user": {
      "displayName": "이선화",
      "photoUrl": "https://lh3.googleusercontent.com/a-/AOh14GiGEcSuxiespWUAaMC6eXljdm2fXmv29ZXuZ14n=s64",
      "userId": "08084686575025891086"
     },
     "user_tz": -540
    },
    "id": "D3qcAH5uTTYW",
    "outputId": "969c46fa-0e01-40c3-f26b-888f0aea52f4"
   },
   "outputs": [
    {
     "data": {
      "image/png": "[encoded data removed]",
      "text/plain": [
       "<Figure size 432x288 with 1 Axes>"
      ]
     },
     "metadata": {
      "needs_background": "light"
     },
     "output_type": "display_data"
    }
   ],
   "source": [
    "label = tips_sum_by_day.index\n",
    "index = np.arange(len(label))\n",
    "\n",
    "plt.bar(label, tips_sum_by_day)\n",
    "\n",
    "plt.show()"
   ]
  },
  {
   "cell_type": "markdown",
   "metadata": {
    "colab_type": "text",
    "id": "M3oIDUuLTTYX"
   },
   "source": [
    "**옆으로 누운 막대그래프는 plt.barh() 함수를 사용**"
   ]
  },
  {
   "cell_type": "code",
   "execution_count": 23,
   "metadata": {
    "colab": {
     "base_uri": "https://localhost:8080/",
     "height": 304
    },
    "colab_type": "code",
    "executionInfo": {
     "elapsed": 1181,
     "status": "ok",
     "timestamp": 1593087687969,
     "user": {
      "displayName": "이선화",
      "photoUrl": "https://lh3.googleusercontent.com/a-/AOh14GiGEcSuxiespWUAaMC6eXljdm2fXmv29ZXuZ14n=s64",
      "userId": "08084686575025891086"
     },
     "user_tz": -540
    },
    "id": "bG_LuvaaTTYY",
    "outputId": "e77368b6-fdf0-463c-a252-e21a0ff9996f"
   },
   "outputs": [
    {
     "data": {
      "image/png": "[encoded data removed]",
      "text/plain": [
       "<Figure size 432x288 with 1 Axes>"
      ]
     },
     "metadata": {
      "needs_background": "light"
     },
     "output_type": "display_data"
    }
   ],
   "source": [
    "plt.barh(index, tips_sum_by_day)\n",
    "plt.title('Sum of Tips by Day', fontsize=18)\n",
    "plt.ylabel('Day', fontsize=15)\n",
    "plt.xlabel('Sum of Tips', fontsize=15)\n",
    "plt.yticks(index, label, fontsize=13, rotation=0)\n",
    "plt.show()"
   ]
  },
  {
   "cell_type": "markdown",
   "metadata": {
    "colab_type": "text",
    "id": "VlsDYlyRTTYZ"
   },
   "source": [
    "### 그룹으로 나누어 비교하는 막대그래프\n",
    "성별(sex)에 따라 요일별 tip의 평균을 비교한다."
   ]
  },
  {
   "cell_type": "code",
   "execution_count": 24,
   "metadata": {
    "colab": {
     "base_uri": "https://localhost:8080/",
     "height": 267
    },
    "colab_type": "code",
    "executionInfo": {
     "elapsed": 1170,
     "status": "ok",
     "timestamp": 1593087695053,
     "user": {
      "displayName": "이선화",
      "photoUrl": "https://lh3.googleusercontent.com/a-/AOh14GiGEcSuxiespWUAaMC6eXljdm2fXmv29ZXuZ14n=s64",
      "userId": "08084686575025891086"
     },
     "user_tz": -540
    },
    "id": "AhkNl6pATTYa",
    "outputId": "f94cba5e-fbcd-4679-bed5-134060f6ab1f"
   },
   "outputs": [
    {
     "data": {
      "image/png": "[encoded data removed]",
      "text/plain": [
       "<Figure size 432x288 with 1 Axes>"
      ]
     },
     "metadata": {
      "needs_background": "light"
     },
     "output_type": "display_data"
    }
   ],
   "source": [
    "tips_mean_by_day_male = tips[tips['sex'] == 'Male'].groupby('day').tip.mean()\n",
    "tips_mean_by_day_female = tips[tips['sex'] == 'Female'].groupby('day').tip.mean()\n",
    "\n",
    "label = ['Thur', 'Fri', 'Sat', 'Sun']\n",
    "index = np.arange(len(label))\n",
    "\n",
    "plt.bar(index, tips_mean_by_day_male, width=0.4, label='Male')\n",
    "plt.bar(index+0.5, tips_mean_by_day_female, width=0.4, label='Female')\n",
    "\n",
    "plt.xticks(index, label)\n",
    "plt.legend()\n",
    "plt.show()\n"
   ]
  },
  {
   "cell_type": "markdown",
   "metadata": {
    "colab_type": "text",
    "id": "3l5uMDMOTTYb"
   },
   "source": [
    "### 누적막대그래프로 표시하기"
   ]
  },
  {
   "cell_type": "code",
   "execution_count": 25,
   "metadata": {
    "colab": {
     "base_uri": "https://localhost:8080/",
     "height": 265
    },
    "colab_type": "code",
    "executionInfo": {
     "elapsed": 1161,
     "status": "ok",
     "timestamp": 1593087195560,
     "user": {
      "displayName": "이선화",
      "photoUrl": "https://lh3.googleusercontent.com/a-/AOh14GiGEcSuxiespWUAaMC6eXljdm2fXmv29ZXuZ14n=s64",
      "userId": "08084686575025891086"
     },
     "user_tz": -540
    },
    "id": "mnreh_LzTTYc",
    "outputId": "a8ef962f-13d6-4766-9df2-1469e5940bf5"
   },
   "outputs": [
    {
     "data": {
      "image/png": "[encoded data removed]",
      "text/plain": [
       "<Figure size 432x288 with 1 Axes>"
      ]
     },
     "metadata": {
      "needs_background": "light"
     },
     "output_type": "display_data"
    }
   ],
   "source": [
    "# summary by group\n",
    "\n",
    "p1 = plt.bar(index, tips_mean_by_day_male, color='b', alpha=0.5, label='Male')\n",
    "p2 = plt.bar(index, tips_mean_by_day_female, color='r', alpha=0.5,\n",
    "             bottom=tips_mean_by_day_male, label='Female')\n",
    "\n",
    "plt.xticks(index, label)\n",
    "plt.legend()\n",
    "plt.show()"
   ]
  },
  {
   "cell_type": "markdown",
   "metadata": {
    "colab_type": "text",
    "id": "NOMN7oHMTTYe"
   },
   "source": [
    "### Matplotlib를 이용하여 산점도 그리기"
   ]
  },
  {
   "cell_type": "code",
   "execution_count": 26,
   "metadata": {
    "colab": {
     "base_uri": "https://localhost:8080/",
     "height": 304
    },
    "colab_type": "code",
    "executionInfo": {
     "elapsed": 1283,
     "status": "ok",
     "timestamp": 1593087200836,
     "user": {
      "displayName": "이선화",
      "photoUrl": "https://lh3.googleusercontent.com/a-/AOh14GiGEcSuxiespWUAaMC6eXljdm2fXmv29ZXuZ14n=s64",
      "userId": "08084686575025891086"
     },
     "user_tz": -540
    },
    "id": "ydKw1KhwTTYf",
    "outputId": "dd9c9f57-08c6-410d-d31d-c088eee1afc3"
   },
   "outputs": [
    {
     "data": {
      "image/png": "[encoded data removed]",
      "text/plain": [
       "<Figure size 432x288 with 1 Axes>"
      ]
     },
     "metadata": {
      "needs_background": "light"
     },
     "output_type": "display_data"
    }
   ],
   "source": [
    "plt.plot('petal_length',  # x\n",
    "         'petal_width',  # y\n",
    "         data=iris, \n",
    "         linestyle='none', \n",
    "         marker='o', \n",
    "         markersize=10,\n",
    "         color='blue', \n",
    "         alpha=0.5)\n",
    "\n",
    "plt.title('Scatter Plot of iris by matplotlib', fontsize=20)\n",
    "plt.xlabel('Petal Length', fontsize=14)\n",
    "plt.ylabel('Petal Width', fontsize=14)\n",
    "plt.show()"
   ]
  },
  {
   "cell_type": "code",
   "execution_count": 27,
   "metadata": {
    "colab": {
     "base_uri": "https://localhost:8080/",
     "height": 283
    },
    "colab_type": "code",
    "executionInfo": {
     "elapsed": 1173,
     "status": "ok",
     "timestamp": 1593087205615,
     "user": {
      "displayName": "이선화",
      "photoUrl": "https://lh3.googleusercontent.com/a-/AOh14GiGEcSuxiespWUAaMC6eXljdm2fXmv29ZXuZ14n=s64",
      "userId": "08084686575025891086"
     },
     "user_tz": -540
    },
    "id": "O8NC1qNCTTYg",
    "outputId": "0824e26b-67f0-4da4-bd0a-2bd2a2240e66",
    "scrolled": true
   },
   "outputs": [
    {
     "data": {
      "text/plain": [
       "<matplotlib.legend.Legend at 0x1be440e5648>"
      ]
     },
     "execution_count": 27,
     "metadata": {},
     "output_type": "execute_result"
    },
    {
     "data": {
      "image/png": "[encoded data removed]",
      "text/plain": [
       "<Figure size 432x288 with 1 Axes>"
      ]
     },
     "metadata": {
      "needs_background": "light"
     },
     "output_type": "display_data"
    }
   ],
   "source": [
    "# 그룹별 산점도 그리기 \n",
    "groups = iris.groupby('species')\n",
    "\n",
    "fig, ax = plt.subplots()\n",
    "for name, group in groups:\n",
    "    ax.plot(group.petal_length, \n",
    "            group.petal_width, \n",
    "            marker='o', \n",
    "            linestyle='',\n",
    "            label=name)\n",
    "ax.legend(fontsize=12, loc='upper left') # legend position\n"
   ]
  },
  {
   "cell_type": "markdown",
   "metadata": {
    "colab_type": "text",
    "id": "UA557hqcTTYi"
   },
   "source": [
    "### plot()함수와 scatter()함수 차이\n",
    "plot()대신에 scatter()를 써서 산점도를 그리는 것도 가능하다.\n",
    "\n",
    "plot()함수 역시 마커만 보여주는 플롯이 가능하고 속도도 scatter()함수에 비해 더 빠르다. \n",
    "  하지만, 마커를 그리는데 있어 scatter()함수는 plot()함수에서 제공하지 않는 높은 자유도를 제공하며 다양한 플롯을 그리는 것이 기능하다."
   ]
  },
  {
   "cell_type": "code",
   "execution_count": 28,
   "metadata": {
    "colab": {
     "base_uri": "https://localhost:8080/",
     "height": 283
    },
    "colab_type": "code",
    "executionInfo": {
     "elapsed": 1138,
     "status": "ok",
     "timestamp": 1593087213578,
     "user": {
      "displayName": "이선화",
      "photoUrl": "https://lh3.googleusercontent.com/a-/AOh14GiGEcSuxiespWUAaMC6eXljdm2fXmv29ZXuZ14n=s64",
      "userId": "08084686575025891086"
     },
     "user_tz": -540
    },
    "id": "P6_tSA0QTTYj",
    "outputId": "527e0a2e-d813-4791-cea7-e0bf6ef72413"
   },
   "outputs": [
    {
     "data": {
      "text/plain": [
       "[<matplotlib.lines.Line2D at 0x1be442a3c48>]"
      ]
     },
     "execution_count": 28,
     "metadata": {},
     "output_type": "execute_result"
    },
    {
     "data": {
      "image/png": "[encoded data removed]",
      "text/plain": [
       "<Figure size 432x288 with 1 Axes>"
      ]
     },
     "metadata": {
      "needs_background": "light"
     },
     "output_type": "display_data"
    }
   ],
   "source": [
    "x = np.random.randint(1,10,15)\n",
    "y = np.random.randint(1,10,15)\n",
    "\n",
    "plt.plot(x, y,'o')"
   ]
  },
  {
   "cell_type": "code",
   "execution_count": 29,
   "metadata": {
    "colab": {
     "base_uri": "https://localhost:8080/",
     "height": 283
    },
    "colab_type": "code",
    "executionInfo": {
     "elapsed": 1206,
     "status": "ok",
     "timestamp": 1593087221519,
     "user": {
      "displayName": "이선화",
      "photoUrl": "https://lh3.googleusercontent.com/a-/AOh14GiGEcSuxiespWUAaMC6eXljdm2fXmv29ZXuZ14n=s64",
      "userId": "08084686575025891086"
     },
     "user_tz": -540
    },
    "id": "XGtV4WfJTTYk",
    "outputId": "b1548564-cf4c-4f69-beb1-780af13ee94d"
   },
   "outputs": [
    {
     "data": {
      "text/plain": [
       "<matplotlib.collections.PathCollection at 0x1be4443d748>"
      ]
     },
     "execution_count": 29,
     "metadata": {},
     "output_type": "execute_result"
    },
    {
     "data": {
      "image/png": "[encoded data removed]",
      "text/plain": [
       "<Figure size 432x288 with 1 Axes>"
      ]
     },
     "metadata": {
      "needs_background": "light"
     },
     "output_type": "display_data"
    }
   ],
   "source": [
    "size = np.random.randint(1,500,15)\n",
    "color =  np.random.randint(1,100,15)\n",
    "plt.scatter(x,y, s=size, c=color)"
   ]
  },
  {
   "cell_type": "code",
   "execution_count": 30,
   "metadata": {
    "colab": {
     "base_uri": "https://localhost:8080/",
     "height": 313
    },
    "colab_type": "code",
    "executionInfo": {
     "elapsed": 1236,
     "status": "ok",
     "timestamp": 1593087225710,
     "user": {
      "displayName": "이선화",
      "photoUrl": "https://lh3.googleusercontent.com/a-/AOh14GiGEcSuxiespWUAaMC6eXljdm2fXmv29ZXuZ14n=s64",
      "userId": "08084686575025891086"
     },
     "user_tz": -540
    },
    "id": "e4ls3cRMTTYm",
    "outputId": "325a5894-9b8b-4da9-e85f-74b96177da6f"
   },
   "outputs": [
    {
     "data": {
      "text/plain": [
       "Text(0, 0.5, 'Tip')"
      ]
     },
     "execution_count": 30,
     "metadata": {},
     "output_type": "execute_result"
    },
    {
     "data": {
      "image/png": "[encoded data removed]",
      "text/plain": [
       "<Figure size 432x288 with 1 Axes>"
      ]
     },
     "metadata": {
      "needs_background": "light"
     },
     "output_type": "display_data"
    }
   ],
   "source": [
    "scatter_plot = plt.figure() \n",
    "axes1 = scatter_plot.add_subplot(1, 1, 1) \n",
    "axes1.scatter(tips['total_bill'], tips['tip']) \n",
    "axes1.set_title('Scatterplot of Total Bill vs Tip') \n",
    "axes1.set_xlabel('Total Bill') \n",
    "axes1.set_ylabel('Tip')"
   ]
  },
  {
   "cell_type": "markdown",
   "metadata": {
    "colab_type": "text",
    "id": "Gq7i2qqwTTYo"
   },
   "source": [
    "### 상자 그래프 그리기\n",
    "하나의 연속형 변수에 대해서 분포 형태, 퍼짐정도, 이상치 여부 등을 시각화하고, 하나의 그룹 혹은 여러개의 그룹 간 비교하는데 유용하다."
   ]
  },
  {
   "cell_type": "code",
   "execution_count": 31,
   "metadata": {
    "colab": {
     "base_uri": "https://localhost:8080/",
     "height": 313
    },
    "colab_type": "code",
    "executionInfo": {
     "elapsed": 1226,
     "status": "ok",
     "timestamp": 1593087231793,
     "user": {
      "displayName": "이선화",
      "photoUrl": "https://lh3.googleusercontent.com/a-/AOh14GiGEcSuxiespWUAaMC6eXljdm2fXmv29ZXuZ14n=s64",
      "userId": "08084686575025891086"
     },
     "user_tz": -540
    },
    "id": "wChIZ3mLTTYp",
    "outputId": "8877a823-78df-44ec-8ffb-0974c313f563",
    "scrolled": true
   },
   "outputs": [
    {
     "data": {
      "text/plain": [
       "Text(0.5, 1.0, 'Boxplot of Tips by Sex')"
      ]
     },
     "execution_count": 31,
     "metadata": {},
     "output_type": "execute_result"
    },
    {
     "data": {
      "image/png": "[encoded data removed]",
      "text/plain": [
       "<Figure size 432x288 with 1 Axes>"
      ]
     },
     "metadata": {
      "needs_background": "light"
     },
     "output_type": "display_data"
    }
   ],
   "source": [
    "boxplot = plt.figure() \n",
    "axes1 = boxplot.add_subplot(1, 1, 1) \n",
    "\n",
    "axes1.boxplot( \n",
    "    [tips[tips['sex'] == 'Female']['tip'], \n",
    "     tips[tips['sex'] == 'Male']['tip']], \n",
    "    labels=['Female', 'Male'])\n",
    "\n",
    "\n",
    "axes1.set_xlabel('Sex') \n",
    "axes1.set_ylabel('Tip') \n",
    "axes1.set_title('Boxplot of Tips by Sex')"
   ]
  },
  {
   "cell_type": "markdown",
   "metadata": {
    "colab_type": "text",
    "id": "P_m0iMFtTTYr"
   },
   "source": [
    "# 등고선 그래프 contour\n",
    "\n",
    "* 등고선 그래프로 3차원 데이터를 시각화 할 수 있다.\n",
    "* contour는 등고선만 표시하고 contourf는 색깔로 표시한다.\n",
    "\n",
    "### meshgrid와 contour\n",
    "* plt.contour(X, Y, Z)의 X, Y, Z는 모두 2차원의 np.array이다.\n",
    "* X, Y 를 meshgrid를 사용하여 생성한다."
   ]
  },
  {
   "cell_type": "code",
   "execution_count": 32,
   "metadata": {
    "colab": {
     "base_uri": "https://localhost:8080/",
     "height": 281
    },
    "colab_type": "code",
    "executionInfo": {
     "elapsed": 1350,
     "status": "ok",
     "timestamp": 1593087236292,
     "user": {
      "displayName": "이선화",
      "photoUrl": "https://lh3.googleusercontent.com/a-/AOh14GiGEcSuxiespWUAaMC6eXljdm2fXmv29ZXuZ14n=s64",
      "userId": "08084686575025891086"
     },
     "user_tz": -540
    },
    "id": "cKqyGJi3TTYr",
    "outputId": "3d3596e5-2e66-4743-bfb7-81ddcdd5a895",
    "scrolled": true
   },
   "outputs": [
    {
     "data": {
      "image/png": "[encoded data removed]",
      "text/plain": [
       "<Figure size 432x288 with 1 Axes>"
      ]
     },
     "metadata": {
      "needs_background": "light"
     },
     "output_type": "display_data"
    }
   ],
   "source": [
    "def f(x, y):\n",
    "    return (1 - x / 2 + x ** 5 + y ** 3) * np.exp(-x ** 2 - y ** 2)\n",
    "\n",
    "\n",
    "n = 256\n",
    "x = np.linspace(-3, 3, n)\n",
    "y = np.linspace(-3, 3, n)\n",
    "XX, YY = np.meshgrid(x, y)\n",
    "ZZ = f(XX, YY)\n",
    "\n",
    "plt.title(\"Contour plots\")\n",
    "plt.contourf(XX, YY, ZZ, alpha=.75, cmap='jet')\n",
    "plt.contour(XX, YY, ZZ, colors='black')\n",
    "plt.show()"
   ]
  },
  {
   "cell_type": "code",
   "execution_count": null,
   "metadata": {
    "colab": {},
    "colab_type": "code",
    "id": "lxEDauWwTTYt"
   },
   "outputs": [],
   "source": []
  }
 ],
 "metadata": {
  "colab": {
   "collapsed_sections": [],
   "name": "01Matplotlib시각화.ipynb",
   "provenance": []
  },
  "kernelspec": {
   "display_name": "Python 3",
   "language": "python",
   "name": "python3"
  },
  "language_info": {
   "codemirror_mode": {
    "name": "ipython",
    "version": 3
   },
   "file_extension": ".py",
   "mimetype": "text/x-python",
   "name": "python",
   "nbconvert_exporter": "python",
   "pygments_lexer": "ipython3",
   "version": "3.7.6"
  }
 },
 "nbformat": 4,
 "nbformat_minor": 1
}
