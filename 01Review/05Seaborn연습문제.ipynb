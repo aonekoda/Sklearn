{
 "cells": [
  {
   "cell_type": "markdown",
   "metadata": {
    "colab_type": "text",
    "id": "y6IKygpj6cOx"
   },
   "source": [
    "# 데이터 시각화\n",
    "\n",
    "seaborn 패키지를 활용하여 데이터 시각화 실습을 수행한다.\n",
    "\n",
    "먼저 필요한 데이터를 로드한다."
   ]
  },
  {
   "cell_type": "code",
   "execution_count": null,
   "metadata": {
    "colab": {},
    "colab_type": "code",
    "id": "CWVbft886YK4"
   },
   "outputs": [],
   "source": [
    "import numpy as np\n",
    "import pandas as pd\n",
    "import matplotlib\n",
    "import matplotlib.pyplot as plt\n",
    "\n",
    "# seaborn 임포트\n",
    "import seaborn as sns\n",
    "\n",
    "%matplotlib inline"
   ]
  },
  {
   "cell_type": "code",
   "execution_count": null,
   "metadata": {
    "colab": {},
    "colab_type": "code",
    "id": "bL2J77CW6_MN"
   },
   "outputs": [],
   "source": [
    "# Data Loading\n",
    "iris = pd.read_csv(\"../data/iris.csv\")\n",
    "tips = pd.read_csv(\"../data/tips.csv\")\n",
    "titanic = pd.read_csv(\"../data/titanic.csv\")"
   ]
  },
  {
   "cell_type": "markdown",
   "metadata": {
    "colab_type": "text",
    "id": "fz_uulFkDYMD"
   },
   "source": [
    "문제 1. \n",
    "\n",
    "tips['total_bill']에 대한 히스토그램을 그리시오."
   ]
  },
  {
   "cell_type": "code",
   "execution_count": null,
   "metadata": {
    "colab": {},
    "colab_type": "code",
    "id": "E9XRg_TYDsw9"
   },
   "outputs": [],
   "source": []
  },
  {
   "cell_type": "markdown",
   "metadata": {
    "colab_type": "text",
    "id": "GLvAHHp8Ds3_"
   },
   "source": [
    "문제 2.\n",
    "\n",
    "tips 데이터프레임에서 요일별 데이터의 빈도(frequency) 막대그래프로 표시하시오."
   ]
  },
  {
   "cell_type": "code",
   "execution_count": null,
   "metadata": {
    "colab": {},
    "colab_type": "code",
    "id": "uPDb-EBhD-Kr"
   },
   "outputs": [],
   "source": []
  },
  {
   "cell_type": "markdown",
   "metadata": {
    "colab_type": "text",
    "id": "5Iy13aGbD-TK"
   },
   "source": [
    "문제 3.\n",
    "\n",
    "titanic 데이터 셋 - 타이타닉호의 각 클래스별 승객 수를 막대그래프로 표시하시오.  "
   ]
  },
  {
   "cell_type": "code",
   "execution_count": null,
   "metadata": {
    "colab": {},
    "colab_type": "code",
    "id": "jeZ49s9pIXpZ"
   },
   "outputs": [],
   "source": []
  },
  {
   "cell_type": "markdown",
   "metadata": {
    "colab_type": "text",
    "id": "UmLT5mVKIXwk"
   },
   "source": [
    "문제 4.\n",
    "\n",
    "titanic 데이터 셋 - 타이타닉호의 생존자와 사망자의 명 수를 막대그래프로 비교해서 나타내시오."
   ]
  },
  {
   "cell_type": "code",
   "execution_count": null,
   "metadata": {
    "colab": {},
    "colab_type": "code",
    "id": "CTX9c3KkImtc"
   },
   "outputs": [],
   "source": []
  },
  {
   "cell_type": "markdown",
   "metadata": {
    "colab_type": "text",
    "id": "Ss5bwr77Im0Y"
   },
   "source": [
    "문제 5. \n",
    "\n",
    "tips 데이터셋 - 'total_bill'과 'tip'의 상관관계를 산점도로 나타내시오."
   ]
  },
  {
   "cell_type": "code",
   "execution_count": null,
   "metadata": {
    "colab": {},
    "colab_type": "code",
    "id": "v_08xGgxI5Td"
   },
   "outputs": [],
   "source": []
  },
  {
   "cell_type": "markdown",
   "metadata": {
    "colab_type": "text",
    "id": "79ffFfYUI5Zx"
   },
   "source": [
    "문제 6.\n",
    "\n",
    "tips 데이터셋 - 'time'가 Lunch, Dinner에 따라서 'total_bill'분포를 비교하는 박스 그래프를 표시하시오."
   ]
  },
  {
   "cell_type": "code",
   "execution_count": null,
   "metadata": {
    "colab": {},
    "colab_type": "code",
    "id": "si1EH9KOJt6T"
   },
   "outputs": [],
   "source": []
  },
  {
   "cell_type": "markdown",
   "metadata": {
    "colab_type": "text",
    "id": "Q5_Dws0kJuA2"
   },
   "source": [
    "문제 7.\n",
    "\n",
    "iris 데이터 셋 - sepal_length\tsepal_width\tpetal_length\tpetal_width의 상관관계 쌍을 산점도 행렬을 그려서 나타내시오."
   ]
  },
  {
   "cell_type": "code",
   "execution_count": null,
   "metadata": {
    "colab": {},
    "colab_type": "code",
    "id": "aRrSO2O3KATR"
   },
   "outputs": [],
   "source": []
  }
 ],
 "metadata": {
  "colab": {
   "authorship_tag": "ABX9TyPobP6yIMPPxoxqpMR5g7fQ",
   "collapsed_sections": [],
   "name": "05Seaborn연습문제.ipynb",
   "provenance": []
  },
  "kernelspec": {
   "display_name": "Python 3",
   "language": "python",
   "name": "python3"
  },
  "language_info": {
   "codemirror_mode": {
    "name": "ipython",
    "version": 3
   },
   "file_extension": ".py",
   "mimetype": "text/x-python",
   "name": "python",
   "nbconvert_exporter": "python",
   "pygments_lexer": "ipython3",
   "version": "3.7.6"
  }
 },
 "nbformat": 4,
 "nbformat_minor": 1
}
